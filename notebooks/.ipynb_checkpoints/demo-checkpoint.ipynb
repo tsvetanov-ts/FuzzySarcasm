{
 "cells": [
  {
   "cell_type": "markdown",
   "metadata": {},
   "source": [
    "# Fuzzy Sarcasm Classifier Demo\n",
    "\n",
    "This notebook demonstrates training a binary sarcasm classifier and using fuzzy trapezoidal membership functions to classify how sarcastic a comment is.\n",
    "\n",
    "For each comment the system outputs:\n",
    "- The sarcasm probability (a value in [0, 1])\n",
    "- Membership degrees for three fuzzy sets: **Unlikely**, **Probably**, and **Highly Likely**"
   ]
  },
  {
   "cell_type": "code",
   "execution_count": 1,
   "metadata": {},
   "outputs": [],
   "source": [
    "import os\n",
    "import numpy as np\n",
    "import pandas as pd\n",
    "import matplotlib.pyplot as plt\n",
    "from src.data_loader import load_train_test\n",
    "from src.sarcasm_classifier import SarcasmClassifier\n",
    "from src.utils import preprocess_texts\n",
    "\n",
    "%matplotlib inline"
   ]
  },
  {
   "cell_type": "markdown",
   "metadata": {},
   "source": [
    "## Load Data\n",
    "\n",
    "Assuming the `data` folder contains `train.csv` and `test.csv` with columns `comment` and `label`.\n",
    "For demonstration, dummy data will be created if these files do not exist.\n",
    "\n",
    "Note: A comment is considered sarcastic only if its label is `'sarcasm'`."
   ]
  },
  {
   "cell_type": "code",
   "execution_count": 2,
   "metadata": {},
   "outputs": [],
   "source": [
    "train_path = os.path.join('data', 'train.csv')\n",
    "test_path = os.path.join('data', 'test.csv')\n",
    "\n",
    "# Create dummy data if files do not exist\n",
    "if not os.path.exists(train_path):\n",
    "    dummy_train = pd.DataFrame({\n",
    "        'comment': [\n",
    "            'I love this product, it works amazingly!',\n",
    "            'Oh great, another rainy day. Just what I needed.',\n",
    "            'Sure, because that makes perfect sense... not!',\n",
    "            'The metaphor in this poem is absolutely breathtaking.'\n",
    "        ],\n",
    "        'label': ['normal', 'irony', 'sarcasm', 'figurative']\n",
    "    })\n",
    "    dummy_train.to_csv(train_path, index=False)\n",
    "\n",
    "if not os.path.exists(test_path):\n",
    "    dummy_test = pd.DataFrame({\n",
    "        'comment': [\n",
    "            'I am so excited about this new update!',\n",
    "            'Oh, fantastic. Another update that breaks everything.'\n",
    "        ],\n",
    "        'label': ['normal', 'sarcasm']\n",
    "    })\n",
    "    dummy_test.to_csv(test_path, index=False)\n",
    "\n",
    "train_df, test_df = load_train_test(train_path, test_path)\n",
    "print(\"Training data:\")\n",
    "print(train_df.head())\n",
    "\n",
    "print(\"\\nTest data:\")\n",
    "print(test_df.head())"
   ]
  },
  {
   "cell_type": "markdown",
   "metadata": {},
   "source": [
    "## Preprocess Data\n",
    "\n",
    "Clean the text data before training."
   ]
  },
  {
   "cell_type": "code",
   "execution_count": 3,
   "metadata": {},
   "outputs": [],
   "source": [
    "train_df['clean_comment'] = preprocess_texts(train_df['comment'])\n",
    "test_df['clean_comment'] = preprocess_texts(test_df['comment'])\n",
    "\n",
    "print(train_df[['comment', 'clean_comment']])"
   ]
  },
  {
   "cell_type": "markdown",
   "metadata": {},
   "source": [
    "## Train the Sarcasm Classifier\n",
    "\n",
    "We train the classifier on the clean comments. A comment is considered sarcastic if its label is `'sarcasm'`."
   ]
  },
  {
   "cell_type": "code",
   "execution_count": 4,
   "metadata": {},
   "outputs": [],
   "source": [
    "# Initialize and train the classifier\n",
    "sarcasm_clf = SarcasmClassifier()\n",
    "sarcasm_clf.train(train_df['clean_comment'], train_df['label'])\n",
    "\n",
    "print(\"Sarcasm classifier trained.\")"
   ]
  },
  {
   "cell_type": "markdown",
   "metadata": {},
   "source": [
    "## Make Fuzzy Sarcasm Predictions on Test Data\n",
    "\n",
    "For each test comment, we predict the sarcasm probability and compute fuzzy membership degrees for:\n",
    "- Unlikely\n",
    "- Probably\n",
    "- Highly Likely"
   ]
  },
  {
   "cell_type": "code",
   "execution_count": 5,
   "metadata": {},
   "outputs": [],
   "source": [
    "test_comments = test_df['clean_comment'].tolist()\n",
    "fuzzy_results = sarcasm_clf.classify_fuzzy(test_comments)\n",
    "\n",
    "for comment, result in zip(test_df['comment'], fuzzy_results):\n",
    "    print(f\"Comment: {comment}\")\n",
    "    print(f\"Sarcasm Probability: {result['sarcasm_probability']:.2f}\")\n",
    "    print(f\"Membership Degrees: Unlikely: {result['unlikely']:.2f},  \n",
    "              Probably: {result['probably']:.2f},  \n",
    "              Highly Likely: {result['highly_likely']:.2f}\")\n",
    "    print('---')"
   ]
  },
  {
   "cell_type": "markdown",
   "metadata": {},
   "source": [
    "## Visualize Fuzzy Membership Functions\n",
    "\n",
    "Let's visualize the three trapezoidal membership functions and mark the sarcasm probability of the first test comment."
   ]
  },
  {
   "cell_type": "code",
   "execution_count": 6,
   "metadata": {},
   "outputs": [
    {
     "data": {
      "image/png": "[encoded data removed]",
      "text/plain": [
       "<Figure size 640x480 with 1 Axes>"
      ]
     },
     "metadata": {}
    }
   ],
   "source": [
    "# Retrieve x values and membership functions from the classifier\n",
    "x = sarcasm_clf.x_sarcasm\n",
    "mf_unlikely = sarcasm_clf.mf_unlikely\n",
    "mf_probably = sarcasm_clf.mf_probably\n",
    "mf_highly_likely = sarcasm_clf.mf_highly_likely\n",
    "\n",
    "# Get the sarcasm probability for the first test comment\n",
    "first_prob = sarcasm_clf.predict_proba([test_df['clean_comment'].iloc[0]])[0]\n",
    "\n",
    "plt.figure(figsize=(8, 6))\n",
    "plt.plot(x, mf_unlikely, 'b', linewidth=1.5, label='Unlikely')\n",
    "plt.plot(x, mf_probably, 'g', linewidth=1.5, label='Probably')\n",
    "plt.plot(x, mf_highly_likely, 'r', linewidth=1.5, label='Highly Likely')\n",
    "plt.axvline(first_prob, color='k', linestyle='--', label=f'Sarcasm Prob = {first_prob:.2f}')\n",
    "plt.title('Trapezoidal Membership Functions for Sarcasm')\n",
    "plt.xlabel('Sarcasm Probability')\n",
    "plt.ylabel('Membership Degree')\n",
    "plt.legend()\n",
    "plt.show()"
   ]
  }
 ],
 "metadata": {
  "kernelspec": {
   "display_name": "Python 3",
   "language": "python",
   "name": "python3"
  },
  "language_info": {
   "name": "python",
   "version": "3.x"
  }
 },
 "nbformat": 4,
 "nbformat_minor": 5
}